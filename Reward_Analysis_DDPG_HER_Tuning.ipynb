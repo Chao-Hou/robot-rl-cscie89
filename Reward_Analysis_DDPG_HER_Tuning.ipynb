{
 "cells": [
  {
   "cell_type": "markdown",
   "metadata": {},
   "source": [
    "### Rewards\n",
    "\n",
    "### Testing model trained using DDPG + HER with Parameter Tuning"
   ]
  },
  {
   "cell_type": "code",
   "execution_count": 1,
   "metadata": {},
   "outputs": [
    {
     "name": "stderr",
     "output_type": "stream",
     "text": [
      "/home/pi/miniconda3/envs/rl-gpu/lib/python3.6/site-packages/h5py/__init__.py:36: FutureWarning: Conversion of the second argument of issubdtype from `float` to `np.floating` is deprecated. In future, it will be treated as `np.float64 == np.dtype(float).type`.\n",
      "  from ._conv import register_converters as _register_converters\n"
     ]
    }
   ],
   "source": [
    "%matplotlib inline\n",
    "from tensorboard.backend.event_processing import event_accumulator\n",
    "import pandas as pd\n",
    "import numpy as np\n",
    "import seaborn as sns\n",
    "import matplotlib.pyplot as plt\n",
    "import os\n",
    "import warnings\n",
    "warnings.filterwarnings(\"ignore\")\n",
    "os.environ['TF_CPP_MIN_LOG_LEVEL'] = '3'\n",
    "\n",
    "# function to open log and get reward\n",
    "def getReward(log_dir):\n",
    "    ea = event_accumulator.EventAccumulator(log_dir)\n",
    "    ea.Reload()\n",
    "    series = ea.scalars.Items('Reward')\n",
    "    rewards = [s.value for s in series]\n",
    "    df = pd.DataFrame(rewards, columns=['Reward'])\n",
    "    df['MeanReward'] = df['Reward'].rolling(window=100, min_periods=2).mean()\n",
    "    df['SD'] = df['Reward'].rolling(window=200, min_periods=2).std()\n",
    "    return df"
   ]
  },
  {
   "cell_type": "code",
   "execution_count": null,
   "metadata": {},
   "outputs": [],
   "source": [
    "# load\n",
    "log_dir = './FetchReach-v1_DDPG_HER_PER'\n",
    "train_paths = [p for p in os.listdir(log_dir) if p.startswith('train_')]\n",
    "train_paths.sort()\n",
    "test_paths = [p for p in os.listdir(log_dir) if p.startswith('test_')]\n",
    "test_paths.sort()\n",
    "\n",
    "# look at first + second training sessions, first test session\n",
    "df_train1 = getReward(os.path.join(log_dir, train_paths[0]))\n",
    "df_train2 = getReward(os.path.join(log_dir, train_paths[1]))\n",
    "df_train = pd.concat((df_train1, df_train2), ignore_index=True)\n",
    "df_test = getReward(os.path.join(log_dir, test_paths[0]))\n",
    "\n",
    "# recompute training reward after concatenation\n",
    "df_train['MeanReward'] = df_train['Reward'].rolling(window=100, min_periods=2).mean()\n",
    "df_train['SD'] = df_train['Reward'].rolling(window=200, min_periods=2).std()\n",
    "\n",
    "# plot reward\n",
    "sns.set_style('darkgrid')\n",
    "sns.set_context(\"talk\")\n",
    "f, axs = plt.subplots(1, 2, figsize=(15, 5))\n",
    "sns.tsplot(df_train['MeanReward'], ax=axs[0])\n",
    "sns.tsplot(df_test['MeanReward'], ax=axs[1])\n",
    "axs[0].set_title('Mean Rewards -- Training')\n",
    "axs[1].set_title('Mean Rewards -- Testing')\n",
    "\n",
    "plt.ylim(-50, 0)\n",
    "plt.show()"
   ]
  },
  {
   "cell_type": "code",
   "execution_count": null,
   "metadata": {},
   "outputs": [],
   "source": [
    "l_ = []\n",
    "for i in [128, 256, 512]:\n",
    "    for j in [64, 256]:\n",
    "        try:\n",
    "            log_dir = './FetchReach-v1_DDPG_HER_batch_' + str(j) + '_hidden_' + str(i) + '/tensorboard_train'\n",
    "            df = getReward(log_dir)\n",
    "            df['HiddenSize'] = i\n",
    "            df['BatchSize'] = j\n",
    "            l_.append(df)\n",
    "        except:\n",
    "            continue\n",
    "df = pd.concat(l_, ignore_index=True)\n",
    "    \n",
    "# plot\n",
    "sns.set(rc={'figure.figsize':(12, 12)})\n",
    "g = sns.FacetGrid(df, col=\"HiddenSize\", row=\"BatchSize\", size=5)\n",
    "g = g.map(sns.tsplot, \"Mean\")\n",
    "plt.show()\n",
    "\n",
    "# plot\n",
    "sns.set(rc={'figure.figsize':(12, 12)})\n",
    "g = sns.FacetGrid(df, col=\"HiddenSize\", row=\"BatchSize\", size=5)\n",
    "g = g.map(sns.tsplot, \"SD\")\n",
    "plt.show()"
   ]
  }
 ],
 "metadata": {
  "kernelspec": {
   "display_name": "Python 3",
   "language": "python",
   "name": "python3"
  },
  "language_info": {
   "codemirror_mode": {
    "name": "ipython",
    "version": 3
   },
   "file_extension": ".py",
   "mimetype": "text/x-python",
   "name": "python",
   "nbconvert_exporter": "python",
   "pygments_lexer": "ipython3",
   "version": "3.6.5"
  }
 },
 "nbformat": 4,
 "nbformat_minor": 2
}
